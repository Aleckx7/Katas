{
 "cells": [
  {
   "cell_type": "code",
   "execution_count": 1,
   "metadata": {},
   "outputs": [
    {
     "name": "stdout",
     "output_type": "stream",
     "text": [
      "Peligro!!! un asteroide se acerca a la tierra\n"
     ]
    }
   ],
   "source": [
    "Va = 49\n",
    "\n",
    "if Va > 25:\n",
    "    print(\"Peligro!!! un asteroide se acerca a la tierra\")"
   ]
  },
  {
   "cell_type": "code",
   "execution_count": 3,
   "metadata": {},
   "outputs": [],
   "source": [
    "va = 19\n",
    "\n",
    "if va >== 20:\n",
    "    print(\"Mira al cielo para ver el asteroide\")\n"
   ]
  },
  {
   "cell_type": "code",
   "execution_count": 9,
   "metadata": {},
   "outputs": [
    {
     "name": "stdout",
     "output_type": "stream",
     "text": [
      "Peligro un asteroide se impactara con la tierra\n"
     ]
    }
   ],
   "source": [
    "va = 25\n",
    "ta = 100\n",
    "\n",
    "if va > 25 and ta > 25 and ta < 1000:\n",
    "\n",
    "    print(\"Peligro un asteroide se impactara con la tierra\")\n",
    "elif va >= 20 and va < 25:\n",
    "    print(\"Mira al cielo para ver el asterodide\")\n"
   ]
  }
 ],
 "metadata": {
  "interpreter": {
   "hash": "7b4b4feff2f24a0f0a34464dbe537a36fda679851528fb8735cb41fa49dffb2d"
  },
  "kernelspec": {
   "display_name": "Python 3.8.5 ('base')",
   "language": "python",
   "name": "python3"
  },
  "language_info": {
   "codemirror_mode": {
    "name": "ipython",
    "version": 3
   },
   "file_extension": ".py",
   "mimetype": "text/x-python",
   "name": "python",
   "nbconvert_exporter": "python",
   "pygments_lexer": "ipython3",
   "version": "3.8.5"
  },
  "orig_nbformat": 4
 },
 "nbformat": 4,
 "nbformat_minor": 2
}
