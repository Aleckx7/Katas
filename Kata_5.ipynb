{
 "cells": [
  {
   "cell_type": "code",
   "execution_count": 8,
   "metadata": {},
   "outputs": [
    {
     "name": "stdout",
     "output_type": "stream",
     "text": [
      "628949330 390577533.93\n"
     ]
    }
   ],
   "source": [
    "distanciaPlaneta1 = 149597870 #Km\n",
    "distanciaPlaneta2 =  778547200 #Km\n",
    "\n",
    "dist = abs(distanciaPlaneta1 - distanciaPlaneta2) # km\n",
    "\n",
    "dist1 = abs(distanciaPlaneta1 - distanciaPlaneta2) * 0.621 # mi\n",
    "\n",
    "print(dist,dist1)"
   ]
  },
  {
   "cell_type": "code",
   "execution_count": 14,
   "metadata": {},
   "outputs": [
    {
     "name": "stdout",
     "output_type": "stream",
     "text": [
      "50300000\n"
     ]
    }
   ],
   "source": [
    "distancia1 = input('Digite la primera distancia')\n",
    "distancia2 = input('Digite la segunda distancia')\n",
    "\n",
    "resultado = abs(int(distancia1) - int(distancia2))\n",
    "\n",
    "print(resultado)"
   ]
  }
 ],
 "metadata": {
  "interpreter": {
   "hash": "7b4b4feff2f24a0f0a34464dbe537a36fda679851528fb8735cb41fa49dffb2d"
  },
  "kernelspec": {
   "display_name": "Python 3.8.5 ('base')",
   "language": "python",
   "name": "python3"
  },
  "language_info": {
   "codemirror_mode": {
    "name": "ipython",
    "version": 3
   },
   "file_extension": ".py",
   "mimetype": "text/x-python",
   "name": "python",
   "nbconvert_exporter": "python",
   "pygments_lexer": "ipython3",
   "version": "3.8.5"
  },
  "orig_nbformat": 4
 },
 "nbformat": 4,
 "nbformat_minor": 2
}
